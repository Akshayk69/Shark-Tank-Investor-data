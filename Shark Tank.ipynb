{
 "cells": [
  {
   "cell_type": "code",
   "execution_count": 1,
   "metadata": {},
   "outputs": [],
   "source": [
    "import pandas as pd\n",
    "from tqdm import tqdm\n",
    "from selenium import webdriver\n",
    "from bs4 import BeautifulSoup\n",
    "import requests"
   ]
  },
  {
   "cell_type": "code",
   "execution_count": 2,
   "metadata": {},
   "outputs": [],
   "source": [
    "browser=webdriver.Firefox()"
   ]
  },
  {
   "cell_type": "code",
   "execution_count": 3,
   "metadata": {},
   "outputs": [],
   "source": [
    "url='https://www.serialupdates.me/shark-tank-india-investors-names-sony-tv-new-show-entrepreneurs-list/'"
   ]
  },
  {
   "cell_type": "code",
   "execution_count": 4,
   "metadata": {},
   "outputs": [],
   "source": [
    "browser.get(url)"
   ]
  },
  {
   "cell_type": "code",
   "execution_count": 6,
   "metadata": {},
   "outputs": [],
   "source": [
    "html=browser.page_source"
   ]
  },
  {
   "cell_type": "code",
   "execution_count": 7,
   "metadata": {},
   "outputs": [],
   "source": [
    "soup=BeautifulSoup(html,'lxml')"
   ]
  },
  {
   "cell_type": "code",
   "execution_count": 8,
   "metadata": {},
   "outputs": [
    {
     "data": {
      "text/plain": [
       "'Shark Tank India Entrepreneurs, Investors Names - Sony TV'"
      ]
     },
     "execution_count": 8,
     "metadata": {},
     "output_type": "execute_result"
    }
   ],
   "source": [
    "soup.title.text"
   ]
  },
  {
   "cell_type": "code",
   "execution_count": 14,
   "metadata": {},
   "outputs": [],
   "source": [
    "table=soup.select('table')[2]"
   ]
  },
  {
   "cell_type": "code",
   "execution_count": 15,
   "metadata": {},
   "outputs": [
    {
     "data": {
      "text/plain": [
       "<table><thead><tr><th>Sr No.</th><th>Entrepreneur Name</th><th>From</th><th>Business</th><th>Deal</th><th><strong>Original Ask</strong></th><th>Final Offer</th><th>Investors</th></tr></thead><tbody><tr><td>1</td><td><strong><a href=\"https://instagram.com/thehimalayanchef?utm_medium=copy_link\" rel=\"noreferrer noopener nofollow\" target=\"_blank\">Aditi Madan</a></strong> <br/>(Momo Mami)</td><td>Darjeeling</td><td>Momos<br/>(BluePine Foods)</td><td><strong><span class=\"color\" style=\"color:#00d084\">Deal</span></strong></td><td>₹50 lakhs<br/>5% Equity</td><td>₹75 lakhs <br/>16% Equity</td><td>Ashneer, Aman, Vineeta</td></tr><tr><td>2</td><td><strong><a href=\"https://instagram.com/ridebooz?utm_medium=copy_link\" rel=\"noreferrer noopener nofollow\" target=\"_blank\">Rutvij Dasadia</a></strong></td><td>Ahmedabad</td><td>Electric Scooters <br/>(Booz)</td><td><strong><span class=\"color\" style=\"color:#00d084\">Deal</span></strong></td><td>₹40 lakhs<br/>15% Equity</td><td>₹40 lakhs<br/>50% Equity</td><td>Ashneer, Vineeta</td></tr><tr><td>3</td><td><strong><a href=\"https://instagram.com/heartupmysleeves?utm_medium=copy_link\" rel=\"noreferrer noopener nofollow\" target=\"_blank\">Riya Khattar</a></strong></td><td>New Delhi</td><td>Outfit<br/>(Heart Up My Sleeves)</td><td><strong><span class=\"color\" style=\"color:#00d084\">Deal</span></strong></td><td>₹25 lakhs <br/>10% Equity</td><td>₹25 lakhs<br/>30% Equity</td><td>Anupam, Vineeta</td></tr><tr><td>4</td><td><strong><a href=\"https://instagram.com/tagzfoods?utm_medium=copy_link\" rel=\"noreferrer noopener nofollow\" target=\"_blank\">Anish and Sagar</a></strong></td><td>Delhi</td><td>Popped Chips<br/>(Tagz Foods)</td><td><strong><span class=\"color\" style=\"color:#00d084\">Deal</span></strong></td><td>₹70 lakhs <br/>1% Equity</td><td>₹70 lakhs <br/> 2.75% Equity</td><td>Ashneer</td></tr><tr><td>5</td><td><strong><a href=\"https://instagram.com/hnh.india?utm_medium=copy_link\" rel=\"noreferrer noopener nofollow\" target=\"_blank\">Singh Family</a></strong></td><td>Punjab</td><td>Brain Training<br/>(Head and Heart)</td><td><strong><span class=\"color\" style=\"color:#cf2e2e\">No Deal</span></strong></td><td>₹50 lakhs <br/>5% Equity</td><td>No Offer</td><td>N/A</td></tr><tr><td>6</td><td><strong><a href=\"https://instagram.com/pandurangtaware?utm_medium=copy_link\" rel=\"noreferrer noopener nofollow\" target=\"_blank\">Pandurang Taware</a></strong></td><td>Maharashtra</td><td>Agri Tourism</td><td><strong><span class=\"color\" style=\"color:#cf2e2e\">No Deal</span></strong></td><td>₹50 lakhs<br/>5% Equity</td><td>No Offer</td><td>N/A</td></tr><tr><td>7</td><td><strong><a href=\"https://instagram.com/qzenselabs?utm_medium=copy_link\" rel=\"noreferrer noopener nofollow\" target=\"_blank\">Rubal and Srishti</a></strong></td><td>Delhi</td><td>Fruit Checker<br/>(qZense Labs)</td><td><strong><span class=\"color\" style=\"color:#cf2e2e\">No Deal</span></strong></td><td>₹1 crore <br/>0.5% Equity</td><td>₹1 crore<br/>5% Equity</td><td>N/A</td></tr><tr><td>8</td><td><strong><a href=\"https://instagram.com/peeschute?utm_medium=copy_link\" rel=\"noreferrer noopener nofollow\" target=\"_blank\">Siddhant Tawarawala</a></strong></td><td>Maharashtra</td><td>Urine Bag<br/>(Peeschute)</td><td><strong><span class=\"color\" style=\"color:#00d084\">Deal</span></strong></td><td>₹75 lakhs <br/>4% Equity</td><td>₹75 lakhs<br/>6% Equity</td><td>Aman</td></tr><tr><td>9</td><td><strong><a href=\"https://instagram.com/nocd_energy_drink?utm_medium=copy_link\" rel=\"noreferrer noopener nofollow\" target=\"_blank\">Siddharth and Vinay</a></strong></td><td>Bangalore</td><td>Energy Drink<br/>(NOCD)</td><td><strong><span class=\"color\" style=\"color:#00d084\">Deal</span></strong></td><td>₹50 lakhs<br/>2% Equity</td><td>₹10 lakhs<br/>10% Equity <br/>₹30 lakhs Debt</td><td>Vineeta</td></tr><tr><td>10</td><td><strong><a href=\"https://instagram.com/mycosiq?utm_medium=copy_link\" rel=\"noreferrer noopener nofollow\" target=\"_blank\">Angad and Kanika</a></strong></td><td>New Delhi</td><td>Skincare Serum<br/>(Cos IQ)</td><td><strong><span class=\"color\" style=\"color:#00d084\">Deal</span></strong></td><td>₹50 lakhs<br/>7% Equity</td><td>₹50 lakhs<br/>25% Equity</td><td>Anupam, Vineeta</td></tr><tr><td>11</td><td><strong><a href=\"https://instagram.com/jhajistore?utm_medium=copy_link\" rel=\"noreferrer noopener nofollow\" target=\"_blank\">Kalpana and Uma Jha</a></strong></td><td>Bihar</td><td>Pickles<br/>(JhaJi Store)</td><td><strong><span class=\"color\" style=\"color:#cf2e2e\">No Deal</span></strong></td><td>₹50 lakhs<br/>10% Equity</td><td>No Offer</td><td>N/A</td></tr><tr><td>12</td><td><strong><a href=\"https://instagram.com/bummer.in?utm_medium=copy_link\" rel=\"noreferrer noopener nofollow\" target=\"_blank\">Sulay Lavsi</a></strong></td><td>Ahmedabad</td><td>Underwears<br/>(Bummer)</td><td><strong><span class=\"color\" style=\"color:#00d084\">Deal</span></strong></td><td>₹75 lakhs<br/>4% Equity</td><td>₹75 lakhs<br/>7.5% Equity</td><td>Aman, Namita</td></tr><tr><td>13</td><td><strong><a href=\"https://instagram.com/revampmoto?utm_medium=copy_link\" rel=\"noreferrer noopener nofollow\" target=\"_blank\">Jayesh, Pritesh and Pushkaraj</a></strong></td><td>Nasik</td><td>EV Bike <br/>(Revamp Moto Mitra)</td><td><strong><span class=\"color\" style=\"color:#00d084\">Deal</span></strong></td><td>₹1 crore<br/>1% Equity</td><td>₹1 crore<br/>1.5% Equity</td><td>Aman, Anupam</td></tr><tr><td>14</td><td><strong><a href=\"https://instagram.com/hungryheadind?utm_medium=copy_link\" rel=\"noreferrer noopener nofollow\" target=\"_blank\">Rahul and Arpit</a></strong></td><td>Mumbai</td><td>Maggi<br/>(Hungry Head)</td><td><strong><span class=\"color\" style=\"color:#cf2e2e\">No Deal</span></strong></td><td>₹50 lakhs<br/>5% Equity</td><td>No Offer</td><td>N/A</td></tr><tr><td>15</td><td><strong><a href=\"https://instagram.com/bellybuttonshaper?utm_medium=copy_link\" rel=\"noreferrer noopener nofollow\" target=\"_blank\">Baldev and Jayshree</a></strong></td><td>Nagpur</td><td>Belly Button Shaper <br/>(Shrawani Engineers)</td><td><strong><span class=\"color\" style=\"color:#cf2e2e\">No Deal</span></strong></td><td>₹20 lakhs<br/>10% Equity</td><td>No Offer</td><td>N/A</td></tr><tr><td>16</td><td><strong><a href=\"https://instagram.com/skippiicepops?utm_medium=copy_link\" rel=\"noreferrer noopener nofollow\" target=\"_blank\">Ravi and Anuja Kabra</a></strong></td><td>Hyderabad</td><td>Popsicles<br/>(Skippi Ice Pops)</td><td><strong><span class=\"color\" style=\"color:#00d084\">Deal</span></strong></td><td>₹45 lakhs<br/>5% Equity</td><td>₹1 crore<br/>15% Equity</td><td>All Sharks Deal</td></tr><tr><td>17</td><td><strong><a href=\"https://instagram.com/menstrupedia?utm_medium=copy_link\" rel=\"noreferrer noopener nofollow\" target=\"_blank\">Tuhin and Aditi</a></strong></td><td>Ahmedabad</td><td>Comic Book<br/>(Menstrupedia)</td><td><strong><span class=\"color\" style=\"color:#00d084\">Deal</span></strong></td><td>₹50 lakhs<br/>10% Equity</td><td>₹50 lakhs<br/>20% Equity</td><td>Namita</td></tr><tr><td>18</td><td><strong><a href=\"https://instagram.com/hecoll_tech?utm_medium=copy_link\" rel=\"noreferrer noopener nofollow\" target=\"_blank\">Deepthi Nathala</a></strong></td><td>Hyderabad</td><td>Fabrics<br/>(Hecoll)</td><td><strong><span class=\"color\" style=\"color:#cf2e2e\">No Deal</span></strong></td><td>₹1 crore<br/>1% Equity</td><td>No Offer</td><td>N/A</td></tr><tr><td>19</td><td><strong><a href=\"https://instagram.com/raising.superstars?utm_medium=copy_link\" rel=\"noreferrer noopener nofollow\" target=\"_blank\">Raghav and Shraddha</a></strong></td><td>Delhi</td><td>Kids Tutor<br/>(Raising Superstars)</td><td><strong><span class=\"color\" style=\"color:#00d084\">Deal</span></strong></td><td>₹1 crore<br/>2% Equity</td><td>₹1 crore<br/>4% Equity</td><td>Ashneer, Aman</td></tr><tr><td>20</td><td><strong><a href=\"https://instagram.com/mytorchit?utm_medium=copy_link\" rel=\"noreferrer noopener nofollow\" target=\"_blank\">Hunny Bhagchandnani</a></strong></td><td>Ahmedabad</td><td>Device for visually impaired<br/>(Torch It)</td><td><strong><span class=\"color\" style=\"color:#cf2e2e\">No Deal</span></strong></td><td>₹75 lakhs<br/>1% Equity</td><td>₹50 lakhs<br/>2.5% Equity<br/>₹25 lakhs Debt</td><td>N/A</td></tr><tr><td>21</td><td><strong><a href=\"https://instagram.com/lakheerdeli?utm_medium=copy_link\" rel=\"noreferrer noopener nofollow\" target=\"_blank\">Shivang, Shivika and Sonia</a></strong></td><td>Pune</td><td>Kheer<br/>(La Kheer Deli)</td><td><strong><span class=\"color\" style=\"color:#cf2e2e\">No Deal</span></strong></td><td>₹50 lakhs<br/>7.5% Equity</td><td>₹50 lakhs<br/>25% Equity</td><td>N/A</td></tr><tr><td>22</td><td><strong><a href=\"https://instagram.com/beyondsnacks?utm_medium=copy_link\" rel=\"noreferrer noopener nofollow\" target=\"_blank\">Manas Madhu</a></strong></td><td>Kerala</td><td>Banana Chips<br/>(Beyond Snack)</td><td><strong><span class=\"color\" style=\"color:#00d084\">Deal</span></strong></td><td>₹50 lakhs<br/>2.5% Equity</td><td>₹50 lakhs<br/>2.5% Equity</td><td>Aman, Ashneer</td></tr><tr><td>23</td><td><strong><a href=\"https://instagram.com/vivalyf.in?utm_medium=copy_link\" rel=\"noreferrer noopener nofollow\" target=\"_blank\">Duvvuru and Vimal</a></strong></td><td>Hyderabad</td><td>Diabetes Device<br/>(Vivalfy Innovations)</td><td><strong><span class=\"color\" style=\"color:#00d084\">Deal</span></strong></td><td>₹56 lakhs<br/>7.5% Equity</td><td>₹56 lakhs<br/>33.33% Equity</td><td>Anupam, Peyush</td></tr><tr><td>24</td><td><strong><a href=\"https://instagram.com/a_signature_?utm_medium=copy_link\" rel=\"noreferrer noopener nofollow\" target=\"_blank\">Kartikey, Anant, Shivraj and Deepen</a></strong></td><td>Vadodara</td><td>EV Bike<br/>(Motion Breeze)</td><td><strong><span class=\"color\" style=\"color:#00d084\">Deal</span></strong></td><td>₹30 lakhs<br/>3% Equity</td><td>₹30 lakhs<br/>6% Equity</td><td>Ashneer</td></tr><tr><td>25</td><td><strong><a href=\"https://instagram.com/altorsmarthelmet?utm_medium=copy_link\" rel=\"noreferrer noopener nofollow\" target=\"_blank\">Bilal, Sayan, Shamik and Anirban</a></strong></td><td>Kolkata</td><td>Smart Helmets<br/>(Altor)</td><td><strong><span class=\"color\" style=\"color:#00d084\">Deal</span></strong></td><td>₹50 lakhs<br/>5% Equity</td><td>₹50 lakhs<br/>7% Equity</td><td>Namita, Aman</td></tr><tr><td>26</td><td><strong><a href=\"https://instagram.com/arirotoys?utm_medium=copy_link\" rel=\"noreferrer noopener nofollow\" target=\"_blank\">Vasanth and Nisha</a></strong></td><td>Chennai</td><td>Wooden Toys<br/>(Ariro Pvt Ltd)</td><td><strong><span class=\"color\" style=\"color:#00d084\">Deal</span></strong></td><td>₹50 lakhs<br/>2.5% Equity</td><td>₹50 lakhs<br/>10% Equity</td><td>Aman, Peyush</td></tr><tr><td>27</td><td>Dr. Manoj and Nirmala</td><td>Jaipur</td><td>Grocery<br/>(Kabira Handmad)</td><td><strong><span class=\"color\" style=\"color:#cf2e2e\">No Deal</span></strong></td><td>₹1 crore<br/>5% Equity</td><td>₹25 lakhs <br/>10% Equity<br/>₹75 lakhs Debt</td><td>N/A</td></tr><tr><td>28</td><td><strong><a href=\"https://instagram.com/nuutjob?utm_medium=copy_link\" rel=\"noreferrer noopener nofollow\" target=\"_blank\">Ananya and Anushree Maloo</a></strong></td><td>Ahmedabad</td><td>Male Intimate Hygiene<br/>(Nuutjob)</td><td><strong><span class=\"color\" style=\"color:#00d084\">Deal</span></strong></td><td>₹25 lakhs<br/>5% Equity</td><td>₹25 lakhs<br/>20% Equity</td><td>Namita, Aman, Peyush</td></tr><tr><td>29</td><td><strong><a href=\"https://instagram.com/shreebalaji_farms?utm_medium=copy_link\" rel=\"noreferrer noopener nofollow\" target=\"_blank\">Arnav, Sai and Vardhaman Gandhi</a></strong></td><td>Pune</td><td>Egg<br/>(Meatyour)</td><td><strong><span class=\"color\" style=\"color:#00d084\">Deal</span></strong></td><td>₹30 lakhs<br/>5% Equity</td><td>₹30 lakhs<br/>20% Equity</td><td>Anupam, Aman, Peyush</td></tr><tr><td>30</td><td><strong><a href=\"https://instagram.com/eventbeepindia?utm_medium=copy_link\" rel=\"noreferrer noopener nofollow\" target=\"_blank\">Venkatesh, Sourabh and Rakhi</a></strong></td><td>Pune</td><td>Student Social Community<br/>(EventBeep)</td><td><strong><span class=\"color\" style=\"color:#00d084\">Deal</span></strong></td><td>₹30 lakhs<br/>2% Equity</td><td>₹30 lakhs<br/>3% Equity</td><td>Aman, Ashneer, Peyush</td></tr><tr><td>31</td><td><strong><a href=\"https://instagram.com/gopals.56?utm_medium=copy_link\" rel=\"noreferrer noopener nofollow\" target=\"_blank\">Gaurav Goyal</a></strong></td><td>Delhi</td><td>Ice Cream <br/>(Gopal’s 56)</td><td><strong><span class=\"color\" style=\"color:#cf2e2e\">No Deal</span></strong></td><td>₹300 crores<br/>25% Equity</td><td>No Offer</td><td>N/A</td></tr><tr><td>32</td><td><strong><a href=\"https://instagram.com/arrcoat_india?utm_medium=copy_link\" rel=\"noreferrer noopener nofollow\" target=\"_blank\">Mohammad, Saransh and Kranti</a></strong></td><td>New Delhi</td><td>Texture Paint<br/>(Arrcoat Surface Textures)</td><td><strong><span class=\"color\" style=\"color:#00d084\">Deal</span></strong></td><td>₹50 lakhs<br/>5% Equity</td><td>₹50 lakhs<br/>15% Equity</td><td>Anupam</td></tr><tr><td>33</td><td><strong><a href=\"https://instagram.com/fardaclothing?utm_medium=copy_link\" rel=\"noreferrer noopener nofollow\" target=\"_blank\">Chahat and Sanskar</a></strong></td><td>Nagpur</td><td>Streetwear Fashion <br/>(Farda)</td><td><strong><span class=\"color\" style=\"color:#00d084\">Deal</span></strong></td><td>₹30 lakhs<br/>10% Equity</td><td>₹30 lakhs<br/>20% Equity</td><td>Aman, Namita</td></tr><tr><td>34</td><td><strong><a href=\"https://instagram.com/auliglow?utm_medium=copy_link\" rel=\"noreferrer noopener nofollow\" target=\"_blank\">Aishwarya Biswas</a></strong></td><td>Kolkata</td><td>Skincare Products<br/>(Auli Lifestyle)</td><td><strong><span class=\"color\" style=\"color:#00d084\">Deal</span></strong></td><td>₹75 lakhs<br/>4% Equity</td><td>₹75 lakhs<br/>15% Equity</td><td>Namita</td></tr><tr><td>35</td><td><strong><a href=\"https://instagram.com/sweedesi_official?utm_medium=copy_link\" rel=\"noreferrer noopener nofollow\" target=\"_blank\">Suman and Vinod</a></strong></td><td>Pune</td><td>Food Delivery <br/>(SweeDesi)</td><td><strong><span class=\"color\" style=\"color:#cf2e2e\">No Deal</span></strong></td><td>₹40 lakhs<br/>3% Equity</td><td>No Offer</td><td>N/A</td></tr><tr><td>36</td><td><strong><a href=\"https://instagram.com/lokaworld_app?utm_medium=copy_link\" rel=\"noreferrer noopener nofollow\" target=\"_blank\">Krishnan Sunderarajan</a></strong></td><td>Delhi</td><td>Metaverse App<br/>(Loka)</td><td><strong><span class=\"color\" style=\"color:#00d084\">Deal</span></strong></td><td>₹40 lakhs<br/>5% Equity</td><td>₹40 lakhs<br/>24% Equity</td><td>Aman, Anupam, Peyush</td></tr><tr><td>37</td><td><strong><a href=\"https://instagram.com/thinkerbell_labs?utm_medium=copy_link\" rel=\"noreferrer noopener nofollow\" target=\"_blank\">Aman, Dilip, Sanskriti, Saif</a></strong></td><td>Bangalore</td><td>Self-learning App for visually impaired<br/>(Annie)</td><td><strong><span class=\"color\" style=\"color:#00d084\">Deal</span></strong></td><td>₹30 lakhs<br/>0.5% Equity</td><td>₹1.05 crores<br/>3% Equity</td><td>Anupam, Namita, Peyush</td></tr><tr><td>38</td><td><strong><a href=\"https://instagram.com/carragreen.official?utm_medium=copy_link\" rel=\"noreferrer noopener nofollow\" target=\"_blank\">Surabhi and Chetna Shah</a></strong></td><td>Indore</td><td>Reusable Boxes<br/>(Carragreen)</td><td><span class=\"color\" style=\"color:#00d084\"><strong>Deal</strong></span></td><td>₹50 lakhs<br/>10% Equity</td><td>₹50 lakhs<br/>20% Equity</td><td>Anupam, Peyush</td></tr><tr><td>39</td><td><strong><a href=\"https://instagram.com/theyarnbazaar?utm_medium=copy_link\" rel=\"noreferrer noopener nofollow\" target=\"_blank\">Pratik Gadia</a></strong></td><td>Mumbai</td><td>Buy/Sell Yarn<br/>(The Yarn Bazaar)</td><td><strong><span class=\"color\" style=\"color:#00d084\">Deal</span></strong></td><td>₹50 lakhs<br/>2% Equity</td><td>₹1 crore<br/>10% Equity</td><td>Aman, Anupam, Peyush, Ashneer</td></tr><tr><td>40</td><td><strong><a href=\"https://instagram.com/therenalproject?utm_medium=copy_link\" rel=\"noreferrer noopener nofollow\" target=\"_blank\">Shashank Modhia</a></strong></td><td>Mumbai</td><td>Dialysis Treatment<br/>(The Renal Project)</td><td><strong><span class=\"color\" style=\"color:#00d084\">Deal</span></strong></td><td>₹1 crore<br/>3% Equity</td><td>₹1 crore<br/>6% Equity</td><td>Aman, Namita</td></tr><tr><td>41</td><td><strong><a href=\"https://instagram.com/kamdhenufoods?utm_medium=copy_link\" rel=\"noreferrer noopener nofollow\" target=\"_blank\">Tanmay, Bipin, Kalyani</a></strong></td><td>Valsad</td><td>Solar-dried fruits<br/>(Morriko Pure Foods)</td><td><strong><span class=\"color\" style=\"color:#cf2e2e\">No Deal</span></strong></td><td>₹1 crore<br/>3% Equity</td><td>₹1 crore<br/>25% Equity</td><td>N/A</td></tr><tr><td>42</td><td><strong><a href=\"https://instagram.com/goodgoodpiggy.app?utm_medium=copy_link\" rel=\"noreferrer noopener nofollow\" target=\"_blank\">Purva Aggarwal</a></strong></td><td>Delhi</td><td>EdFinTech App <br/>(Good Good Piggy)</td><td><strong><span class=\"color\" style=\"color:#cf2e2e\">No Deal</span></strong></td><td>₹45 lakhs<br/>5% Equity</td><td>No Offer</td><td>N/A</td></tr><tr><td>43</td><td><strong><a href=\"https://instagram.com/cocofit_india?utm_medium=copy_link\" rel=\"noreferrer noopener nofollow\" target=\"_blank\">Sasikanth, Pavan, Sunil</a></strong></td><td>Hyderabad</td><td>Coconut based Products <br/>(Cocofit)</td><td><strong><span class=\"color\" style=\"color:#00d084\">Deal</span></strong></td><td>₹5 <br/>5% Equity</td><td>₹5<br/>5% Equity</td><td>Aman, Anupam, Namita</td></tr><tr><td>44</td><td><strong><a href=\"https://instagram.com/hammeraudio?utm_medium=copy_link\" rel=\"noreferrer noopener nofollow\" target=\"_blank\">Rohit Nandwani</a></strong></td><td>Haryana</td><td>Tech Products <br/>(Hammer Lifestyle)</td><td><strong><span class=\"color\" style=\"color:#00d084\">Deal</span></strong></td><td>₹30 lakhs<br/>3% Equity</td><td>₹1 crore<br/>40% Equity</td><td>Aman</td></tr><tr><td>45</td><td><strong><a href=\"https://instagram.com/pnt_robotics?utm_medium=copy_link\" rel=\"noreferrer noopener nofollow\" target=\"_blank\">Pratik, Ashish</a></strong></td><td>Mumbai</td><td>Autonomous Robots<br/>(PNT Robotics)</td><td><strong><span class=\"color\" style=\"color:#00d084\">Deal</span></strong></td><td>₹50 lakhs<br/>4% Equity</td><td>₹25 lakhs<br/>25% Equity<br/>₹25 lakhs Debt</td><td>Peyush</td></tr><tr><td>46</td><td><strong><a href=\"https://instagram.com/bambooindia?utm_medium=copy_link\" rel=\"noreferrer noopener nofollow\" target=\"_blank\">Yogesh Shinde</a></strong></td><td>Pune</td><td>Bamboo Products<br/>(Bamboo India)</td><td><strong><span class=\"color\" style=\"color:#00d084\">Deal</span></strong></td><td>₹80 lakhs<br/>4% Equity</td><td>₹50 lakhs<br/>3.5% Equity<br/>₹30 lakhs Debt</td><td>Anupam, Ashneer</td></tr><tr><td>47</td><td><strong><a href=\"https://instagram.com/flyingfurindia?utm_medium=copy_link\" rel=\"noreferrer noopener nofollow\" target=\"_blank\">Jessica Madan</a></strong></td><td>Delhi</td><td>Pets Grooming and Spa<br/>(Flying Fur)</td><td><strong><span class=\"color\" style=\"color:#cf2e2e\">No Deal</span></strong></td><td>₹75 lakhs<br/>7% Equity</td><td>No Offer</td><td>N/A</td></tr><tr><td>48</td><td><strong><a href=\"https://instagram.com/beyondwater.in?utm_medium=copy_link\" rel=\"noreferrer noopener nofollow\" target=\"_blank\">Devang and Shachi</a></strong></td><td>Kolkata</td><td>Liquid Water Enhancer<br/>(Beyond Water)</td><td><strong><span class=\"color\" style=\"color:#00d084\">Deal</span></strong></td><td>₹75 lakhs<br/>4% Equity</td><td>₹75 lakhs<br/>15% Equity</td><td>Aman, Namita</td></tr><tr><td>49</td><td><strong><a href=\"https://instagram.com/letstry_foods?utm_medium=copy_link\" rel=\"noreferrer noopener nofollow\" target=\"_blank\">Nitin, Chitra, Geetanjali, Neelam</a></strong></td><td>Delhi</td><td>Snacks<br/>(Let’s Try Food)</td><td><strong><span class=\"color\" style=\"color:#00d084\">Deal</span></strong></td><td>₹45 lakhs<br/>2% Equity</td><td>₹45 lakhs<br/>12% Equity</td><td>Anupam, Aman</td></tr><tr><td>50</td><td><strong><a href=\"https://instagram.com/findyourkicksindia?utm_medium=copy_link\" rel=\"noreferrer noopener nofollow\" target=\"_blank\">Simardeep, Danish, Harshdeep</a></strong></td><td>Delhi</td><td>Hyped Sneakers <br/>(Find Your Kicks India)</td><td><strong><span class=\"color\" style=\"color:#00d084\">Deal</span></strong></td><td>₹50 lakhs<br/>10% Equity</td><td>₹50 lakhs<br/>25% Equity</td><td>All Sharks</td></tr><tr><td>51</td><td><strong><a href=\"https://instagram.com/aasvidyalaya?utm_medium=copy_link\" rel=\"noreferrer noopener nofollow\" target=\"_blank\">Vikas and Leela</a></strong></td><td>Mumbai</td><td>Online Study<br/>(Aas Vidyalaya)</td><td><strong><span class=\"color\" style=\"color:#00d084\">Deal</span></strong></td><td>₹1.5 crore<br/>3% Equity</td><td>₹1.5 crore<br/>15% Equity</td><td>Peyush, Ashneer, Namita</td></tr><tr><td>52</td><td><strong><a href=\"https://instagram.com/outboxsurprises?utm_medium=copy_link\" rel=\"noreferrer noopener nofollow\" target=\"_blank\">Kaushal and Sukriti</a></strong></td><td>Calcutta</td><td>Surprise Party Planners <br/>(Outbox)</td><td><strong><span class=\"color\" style=\"color:#cf2e2e\">No Deal</span></strong></td><td>₹50 lakhs<br/>5% Equity</td><td>No Offer</td><td>N/A</td></tr><tr><td>53</td><td><strong><a href=\"https://instagram.com/roadbounce5?utm_medium=copy_link\" rel=\"noreferrer noopener nofollow\" target=\"_blank\">Ranjeet Deshmukh</a></strong></td><td>Pune</td><td>Obstacles Detector<br/>(RoadBounce)</td><td><strong><span class=\"color\" style=\"color:#00d084\">Deal</span></strong></td><td>₹80 lakhs<br/>10% Equity</td><td>₹80 lakhs<br/>20% Equity</td><td>Peyush</td></tr><tr><td>54</td><td><strong><a href=\"https://instagram.com/mommyskitchen.kanoi?utm_medium=copy_link\" rel=\"noreferrer noopener nofollow\" target=\"_blank\">Vikaas, Pratibha, Vishal Kanoi</a></strong></td><td>Mumbai</td><td>Fresh and Hygiene Pizza<br/>(Mommy’s Kitchen)</td><td><strong><span class=\"color\" style=\"color:#cf2e2e\">No Deal</span></strong></td><td>₹90 lakhs<br/>3% Equity</td><td>No Offer</td><td>N/A</td></tr><tr><td>55</td><td><strong><a href=\"https://instagram.com/electricdandera?utm_medium=copy_link\" rel=\"noreferrer noopener nofollow\" target=\"_blank\">Kshitij and Kanav</a></strong></td><td>New Delhi</td><td>OTUA Electric Vehicle<br/>(Dandera Technologies Pvt Ltd)</td><td><strong><span class=\"color\" style=\"color:#00d084\">Deal</span></strong></td><td>₹1 crore<br/>1% Equity</td><td>₹1 lakh<br/>1% Equity<br/>₹99 lakhs at 12% Interest</td><td>Ashneer</td></tr><tr><td>56</td><td><strong><a href=\"https://instagram.com/indiahempandco?utm_medium=copy_link\" rel=\"noreferrer noopener nofollow\" target=\"_blank\">Jayanti Bhattacharya</a></strong></td><td>Bangalore</td><td>Super Food<br/>(India Hemp and Co.)</td><td><strong><span class=\"color\" style=\"color:#cf2e2e\">No Deal</span></strong></td><td>₹50 lakhs<br/>4% Equity</td><td>₹20 lakhs<br/>10% Equity<br/>₹30 lakhs at 12% Interest</td><td>N/A</td></tr><tr><td>57</td><td><strong><a href=\"https://instagram.com/anthyesti_funeral_services?utm_medium=copy_link\" rel=\"noreferrer noopener nofollow\" target=\"_blank\">Shruthi Reddy</a></strong></td><td>Kolkata</td><td>Funeral Service Provider<br/>(Anthyesti Funeral Services)</td><td><strong><span class=\"color\" style=\"color:#cf2e2e\">No Deal</span></strong></td><td>₹50 lakhs<br/>2% Equity</td><td>No Offer</td><td>N/A</td></tr><tr><td>58</td><td><strong><a href=\"https://instagram.com/ethik.in?utm_medium=copy_link\" rel=\"noreferrer noopener nofollow\" target=\"_blank\">Pankaj and Bharat</a></strong></td><td>Bangalore</td><td>Leather Free Products <br/>(Ethik)</td><td><strong><span class=\"color\" style=\"color:#cf2e2e\">No Deal</span></strong></td><td>₹15 lakhs<br/>5% Equity</td><td>No Offer</td><td>N/A</td></tr><tr><td>59</td><td><strong><a href=\"https://instagram.com/brain_wired?utm_medium=copy_link\" rel=\"noreferrer noopener nofollow\" target=\"_blank\">Sreeshankar and Romeo</a></strong></td><td>Kerala</td><td>IOT Device for Cows<br/>(Brainwired)</td><td><strong><span class=\"color\" style=\"color:#00d084\">Deal</span></strong></td><td>₹50 lakhs<br/>5% Equity</td><td>₹60 lakhs<br/>10% Equity</td><td>Aman, Namita, Peyush, Ashneer</td></tr><tr><td>60</td><td><strong><a href=\"https://instagram.com/keto.india?utm_medium=copy_link\" rel=\"noreferrer noopener nofollow\" target=\"_blank\">Sahil Pruthi</a></strong></td><td>Delhi</td><td>Keto Diet Plan<br/>(Keto India)</td><td><strong><span class=\"color\" style=\"color:#cf2e2e\">No Deal</span></strong></td><td>₹1.5 crore<br/>1.25% Equity</td><td>₹1.6 crore<br/>16% Equity</td><td>N/A</td></tr><tr><td>61</td><td>Tejas, Zubin, Dhananjay</td><td>Mumbai</td><td>LPG Gas Safety Valve<br/>(Magic Lock)</td><td><strong><span class=\"color\" style=\"color:#cf2e2e\">No Deal</span></strong></td><td>₹1.2 crore<br/>8% Equity</td><td>No Offer</td><td>N/A</td></tr><tr><td>62</td><td><strong><a href=\"https://instagram.com/thestateplateofficial?utm_medium=copy_link\" rel=\"noreferrer noopener nofollow\" target=\"_blank\">Muskaan and Raghav</a></strong></td><td>Bangalore</td><td>Regional Food Delivery<br/>(The State Plate)</td><td><strong><span class=\"color\" style=\"color:#00d084\">Deal</span></strong></td><td>₹65 lakhs<br/>2% Equity</td><td>₹40 lakhs<br/>4% Equity<br/>₹25 lakhs Debt</td><td>Peyush</td></tr><tr><td>63</td><td><strong><a href=\"https://instagram.com/bakarmax?utm_medium=copy_link\" rel=\"noreferrer noopener nofollow\" target=\"_blank\">Sumit and Divyesh</a></strong></td><td>Mumbai</td><td>Comics and Animation<br/>(Bakarmax Pvt Ltd)</td><td><span class=\"color\" style=\"color:#cf2e2e\"><strong>No Deal</strong></span></td><td>₹35 lakhs<br/>5% Equity</td><td>No Offer</td><td>N/A</td></tr><tr><td>64</td><td><strong><a href=\"https://instagram.com/inacancocktails?utm_medium=copy_link\" rel=\"noreferrer noopener nofollow\" target=\"_blank\">Sameer and Viraj</a></strong></td><td>Pune</td><td>Cocktails<br/>(In A Can)</td><td><strong><span class=\"color\" style=\"color:#00d084\">Deal</span></strong></td><td>₹50 lakhs<br/>2% Equity</td><td>₹1 crore<br/>10% Equity</td><td>All Sharks</td></tr><tr><td>65</td><td><strong><a href=\"https://instagram.com/getawhey?utm_medium=copy_link\" rel=\"noreferrer noopener nofollow\" target=\"_blank\">Jash Shah and Jimmy Shah</a></strong></td><td>Ahmedabad</td><td>Whey Protein Ice-cream<br/>(Get-A-Whey)</td><td><strong><span class=\"color\" style=\"color:#00d084\">Deal</span></strong></td><td>₹1 crore<br/>8% Equity</td><td>₹1 crore<br/>15% Equity</td><td>Aman, Vineeta, Ashneer</td></tr><tr><td>66</td><td><strong><a href=\"https://instagram.com/sid07_designs?utm_medium=copy_link\" rel=\"noreferrer noopener nofollow\" target=\"_blank\">Siddharth Gupta</a></strong></td><td>Jammu</td><td>Lifestyle Products<br/>(Sid07 Designs)</td><td><strong><span class=\"color\" style=\"color:#00d084\">Deal</span></strong></td><td>₹47 lakhs<br/>10% Equity</td><td>₹25 lakhs<br/>75% Equity <br/>₹22 lakhs Debt</td><td>Peyush</td></tr><tr><td>67</td><td><strong><a href=\"https://instagram.com/thequirkynaari?utm_medium=copy_link\" rel=\"noreferrer noopener nofollow\" target=\"_blank\">Malvica Saxena</a></strong></td><td>Mathura</td><td>Customized Shoes/Jackets <br/>(The Quirky Naari)</td><td><strong><span class=\"color\" style=\"color:#00d084\">Deal</span></strong></td><td>₹35 lakhs<br/>5% Equity</td><td>₹35 lakhs<br/>24% Equity</td><td>Vineeta, Anupam</td></tr><tr><td>68</td><td><strong><a href=\"https://instagram.com/moonshinemeadery?utm_medium=copy_link\" rel=\"noreferrer noopener nofollow\" target=\"_blank\">Nitin and Rohan</a></strong></td><td>Pune</td><td>Meads <br/>(Moonshine)</td><td><strong><span class=\"color\" style=\"color:#cf2e2e\">No Deal</span></strong></td><td>₹80 lakhs<br/>0.5% Equity</td><td>₹1 crore<br/>2.5% Equity</td><td>All Sharks</td></tr><tr><td>69</td><td><strong><a href=\"https://instagram.com/hairoriginals?utm_medium=copy_link\" rel=\"noreferrer noopener nofollow\" target=\"_blank\">Ashish, Jitendra, Piyush</a></strong></td><td>Gurgaon</td><td>Hair Extensions<br/>(Hair Originals)</td><td><strong><span class=\"color\" style=\"color:#00d084\">Deal</span></strong></td><td>₹60 lakhs<br/>2% Equity</td><td>₹60 lakhs<br/>4% Equity</td><td>Anupam, Peyush, Ashneer</td></tr><tr><td>70</td><td><strong><a href=\"https://instagram.com/poo_de_cologne?utm_medium=copy_link\" rel=\"noreferrer noopener nofollow\" target=\"_blank\">Aditi Sodhi</a></strong></td><td>Punjab</td><td>Pre-toilet Spray <br/>(Poo-De-Cologne)</td><td><strong><span class=\"color\" style=\"color:#cf2e2e\">No Deal</span></strong></td><td>₹75 lakhs<br/>5% Equity</td><td>No Offer</td><td>N/A</td></tr><tr><td>71</td><td><strong><a href=\"https://instagram.com/gofalhari?utm_medium=copy_link\" rel=\"noreferrer noopener nofollow\" target=\"_blank\">Gulshan, Rahul, Dhruv</a></strong></td><td>Gurgaon</td><td>Fresh Fruit Salad/Juices<br/>(Falhari)</td><td><strong><span class=\"color\" style=\"color:#cf2e2e\">No Deal</span></strong></td><td>₹50 lakhs<br/>2% Equity</td><td>₹50 lakhs<br/>8% Equity</td><td>Vineeta</td></tr><tr><td>72</td><td><strong><a href=\"https://instagram.com/namhyafoods?utm_medium=copy_link\" rel=\"noreferrer noopener nofollow\" target=\"_blank\">Ridhima Arora</a></strong></td><td>Gurugram</td><td>Ayurvedic Enriched Food<br/>(Namhya Foods)</td><td><strong><span class=\"color\" style=\"color:#00d084\">Deal</span></strong></td><td>₹1 crore<br/>5% Equity</td><td>₹50 lakhs<br/>10% Equity <br/>₹50 lakhs Debt</td><td>Aman</td></tr><tr><td>73</td><td><strong><a href=\"https://instagram.com/urbanmonkeyindia?utm_medium=copy_link\" rel=\"noreferrer noopener nofollow\" target=\"_blank\">Yash Gangwal</a></strong></td><td>Mumbai</td><td>OG Streetwear<br/>(Urban Monkey)</td><td><strong><span class=\"color\" style=\"color:#cf2e2e\">No Deal</span></strong></td><td>₹1 crore<br/>1% Equity</td><td>₹1 crore<br/>10% Equity</td><td>Peyush</td></tr><tr><td>74</td><td><strong><a href=\"https://instagram.com/guardiangearsindia?utm_medium=copy_link\" rel=\"noreferrer noopener nofollow\" target=\"_blank\">Tasneem and Ismail Badri</a></strong></td><td>Secunderabad</td><td>Luggage Bags<br/>(Guardian Gears)</td><td><strong><span class=\"color\" style=\"color:#cf2e2e\">No Deal</span></strong></td><td>₹30 lakhs<br/>5% Equity</td><td>₹30 lakhs<br/>30% Equity</td><td>Vineeta, Anupam, Peyush</td></tr><tr><td>75</td><td><strong><a href=\"https://instagram.com/modernmyth.in?utm_medium=copy_link\" rel=\"noreferrer noopener nofollow\" target=\"_blank\">Oshina and Saurabh</a></strong></td><td>Delhi</td><td>Handcrafted Bags<br/>(Modern Myth)</td><td><strong><span class=\"color\" style=\"color:#cf2e2e\">No Deal</span></strong></td><td>₹75 lakhs<br/>5% Equity</td><td>No Offer</td><td>N/A</td></tr><tr><td>76</td><td><strong><a href=\"https://instagram.com/thesassbar?utm_medium=copy_link\" rel=\"noreferrer noopener nofollow\" target=\"_blank\">Rishika Nayak</a></strong></td><td>Mumbai</td><td>Luxury Soaps <br/>(The Sass Bar)</td><td><strong><span class=\"color\" style=\"color:#00d084\">Deal</span></strong></td><td>₹40 lakhs<br/>8% Equity</td><td>₹40 lakhs<br/>35% Equity</td><td>Anupam, Ghazal</td></tr><tr><td>77</td><td><strong><a href=\"https://instagram.com/jugaadu_kamlesh?utm_medium=copy_link\" rel=\"noreferrer noopener nofollow\" target=\"_blank\">Jugadu Kamlesh</a></strong></td><td>Malegaon</td><td>Multipurpose Bicycle<br/>(KG Agrotech)</td><td><strong><span class=\"color\" style=\"color:#00d084\">Deal</span></strong></td><td>₹30 lakhs<br/>10% Equity</td><td>₹10 lakhs<br/>40% Equity<br/>₹20 lakhs Loan</td><td>Peyush</td></tr><tr><td>78</td><td><strong><a href=\"https://instagram.com/nuskhakitchen?utm_medium=copy_link\" rel=\"noreferrer noopener nofollow\" target=\"_blank\">Alpana and Viral Tiwari</a></strong></td><td>Jaipur</td><td>Herbals Products<br/>(Nuskha Kitchen)</td><td><strong><span class=\"color\" style=\"color:#cf2e2e\">No Deal</span></strong></td><td>₹20 lakhs<br/>10% Equity</td><td>No Offer</td><td>N/A</td></tr><tr><td>79</td><td><strong><a href=\"https://instagram.com/pawsindiaofficial?utm_medium=copy_link\" rel=\"noreferrer noopener nofollow\" target=\"_blank\">Priyam Singh</a></strong></td><td>Mumbai</td><td>Pets Parenting<br/>(PawsIndia)</td><td><strong><span class=\"color\" style=\"color:#00d084\">Deal</span></strong></td><td>₹50 lakhs<br/>4% Equity</td><td>₹50 lakhs<br/>15% Equity</td><td>Anupam</td></tr><tr><td>80</td><td><strong><a href=\"https://instagram.com/alpinohealthfoods?utm_medium=copy_link\" rel=\"noreferrer noopener nofollow\" target=\"_blank\">Mahatva, Umesh, Priyank, Chetan</a></strong></td><td>Surat</td><td>Gluten-free Peanut Butter <br/>(Alpino Health Foods Pvt Ltd)</td><td><strong><span class=\"color\" style=\"color:#cf2e2e\">No Deal</span></strong></td><td>₹1.5 crore<br/>2% Equity</td><td>₹1.5 crore<br/>8% Equity</td><td>Anupam, Peyush, Vineeta, Namita</td></tr><tr><td>81</td><td><strong><a href=\"https://instagram.com/sunfox_tech?utm_medium=copy_link\" rel=\"noreferrer noopener nofollow\" target=\"_blank\">Rajat, Nitin, Saurabh, Sabit</a></strong></td><td>Dehradun</td><td>Pocket Size ECG Device <br/>(Spandan)</td><td><strong><span class=\"color\" style=\"color:#00d084\">Deal</span></strong></td><td>₹1 crore<br/>2% Equity</td><td>₹1 crore<br/>6% Equity</td><td>All Sharks</td></tr><tr><td>82</td><td><strong><a href=\"https://instagram.com/isakfragrances?utm_medium=copy_link\" rel=\"noreferrer noopener nofollow\" target=\"_blank\">Vidushi Vijayvergia</a></strong></td><td>Lucknow</td><td>Authentic Perfumes and Attars <br/>(Isak Fragrances)</td><td><strong><span class=\"color\" style=\"color:#00d084\">Deal</span></strong></td><td>₹50 lakhs<br/>8% Equity</td><td>₹50 lakhs<br/>50% Equity</td><td>Peyush</td></tr><tr><td>83</td><td>Ramesh, Chandrakantbhai, Jay</td><td>Ahmedabad</td><td>Automated Cradle<br/>(Julaa Automation)</td><td><strong><span class=\"color\" style=\"color:#cf2e2e\">No Deal</span></strong></td><td>₹50 lakhs<br/>10% Equity</td><td>No Offer</td><td>N/A</td></tr><tr><td>84</td><td><strong><a href=\"https://instagram.com/rare.planet?utm_medium=copy_link\" rel=\"noreferrer noopener nofollow\" target=\"_blank\">Ranodeep and Vijaya Kumar</a></strong></td><td>Kolkata</td><td>Handmade Products<br/>(Rare Planet)</td><td><strong><span class=\"color\" style=\"color:#00d084\">Deal</span></strong></td><td>₹65 lakhs<br/>1% Equity</td><td>₹65 lakhs<br/>3% Equity</td><td>Namita</td></tr><tr><td>85</td><td><strong><a href=\"https://instagram.com/theka.cafe?utm_medium=copy_link\" rel=\"noreferrer noopener nofollow\" target=\"_blank\">Bhupinder Madaan</a></strong></td><td>Ahmedabad</td><td>Coffee <br/>(Theka Coffee)</td><td><strong><span class=\"color\" style=\"color:#cf2e2e\">No Deal</span></strong></td><td>₹50 lakhs<br/>10% Equity</td><td>No Offer</td><td>N/A</td></tr><tr><td>86</td><td><strong><a href=\"https://instagram.com/watt_technovations?utm_medium=copy_link\" rel=\"noreferrer noopener nofollow\" target=\"_blank\">Nihaal Singh Adarsh</a></strong></td><td>Pune</td><td>Cov-tech Ventilation<br/>(Watt Technovations)</td><td><strong><span class=\"color\" style=\"color:#00d084\">Deal</span></strong></td><td>₹101 <br/>10% Equity</td><td>₹101<br/>4% Equity</td><td>Anupam, Peyush, Ghazal, Namita</td></tr><tr><td>87</td><td><strong><a href=\"https://instagram.com/alistetechnologies?utm_medium=copy_link\" rel=\"noreferrer noopener nofollow\" target=\"_blank\">Shreyash, Konark, Aakarsh, Anant, Udit, Bhavya</a></strong></td><td>Noida</td><td>Home Automation Systems<br/>(Aliste Technologies)</td><td><strong><span class=\"color\" style=\"color:#cf2e2e\">No Deal</span></strong></td><td>₹60 lakhs<br/>5% Equity</td><td>₹10 lakhs<br/>10% Equity <br/>₹50 lakhs<br/>Debt</td><td>Anupam</td></tr><tr><td>88</td><td><strong><a href=\"https://instagram.com/insurancesamadhan?utm_medium=copy_link\" rel=\"noreferrer noopener nofollow\" target=\"_blank\">Ravi, Deepak, Shilpa</a></strong></td><td>Delhi</td><td>Insurance Company<br/>(Insurance Samadhan)</td><td><strong><span class=\"color\" style=\"color:#00d084\">Deal</span></strong></td><td>₹1 crore<br/>1% Equity</td><td>₹1 crore<br/>4% Equity</td><td>Peyush</td></tr><tr><td>89</td><td><strong><a href=\"https://instagram.com/humpy_farms?utm_medium=copy_link\" rel=\"noreferrer noopener nofollow\" target=\"_blank\">Vishal, Malvika, Jaywant</a></strong></td><td>Pune</td><td>Milk and Organic Products<br/>(Humpy A2)</td><td><strong><span class=\"color\" style=\"color:#00d084\">Deal</span></strong></td><td>₹75 lakhs<br/>4% Equity</td><td>₹1 crore<br/>15% Equity</td><td>Peyush, Ghazal, Vineeta</td></tr><tr><td>90</td><td><strong><a href=\"https://instagram.com/kunafaworldmumbai?utm_medium=copy_link\" rel=\"noreferrer noopener nofollow\" target=\"_blank\">Zamzeer and Jameela Ruhi</a></strong></td><td>Mumbai</td><td>Kunafa Dessert<br/>(Kunafa World)</td><td><strong><span class=\"color\" style=\"color:#cf2e2e\">No Deal</span></strong></td><td>₹90 lakhs<br/>5% Equity</td><td>No Offer</td><td>N/A</td></tr><tr><td>91</td><td><strong><a href=\"https://instagram.com/smartfanpipe?utm_medium=copy_link\" rel=\"noreferrer noopener nofollow\" target=\"_blank\">Gaurav and Sharad Ashani</a></strong></td><td>Mumbai</td><td>Safety Fan Rod <br/>(Gold Life)</td><td><strong><span class=\"color\" style=\"color:#00d084\">Deal</span></strong></td><td>₹50 lakhs<br/>5% Equity</td><td>₹50 lakhs<br/>30% Equity</td><td>Peyush, Ghazal, Vineeta</td></tr><tr><td>92</td><td><strong><a href=\"https://instagram.com/wakaofoods?utm_medium=copy_link\" rel=\"noreferrer noopener nofollow\" target=\"_blank\">Sairaj Gaurish Dhond</a></strong></td><td>Goa</td><td>Jackfruit Products<br/>(Wakao Foods)</td><td><strong><span class=\"color\" style=\"color:#00d084\">Deal</span></strong></td><td>₹75 lakhs<br/>5% Equity</td><td>₹75 lakhs<br/>21% Equity</td><td>Ghazal, Vineeta, Namita</td></tr><tr><td>93</td><td><strong><a href=\"https://instagram.com/pddfalcon?utm_medium=copy_link\" rel=\"noreferrer noopener nofollow\" target=\"_blank\">Chirag and Sneha</a></strong></td><td>Mumbai</td><td>Stainless Steel Products<br/>(PDD Falcon)</td><td><strong><span class=\"color\" style=\"color:#cf2e2e\">No Deal</span></strong></td><td>₹75 lakhs<br/>3% Equity</td><td>₹75 lakhs<br/>21% Equity</td><td>Ghazal</td></tr><tr><td>94</td><td><strong><a href=\"https://instagram.com/playboxtv_official?utm_medium=copy_link\" rel=\"noreferrer noopener nofollow\" target=\"_blank\">Soham and Aamir</a></strong></td><td>Mumbai</td><td>OTT &amp; Live TV Channels <br/>(PlayboxTV)</td><td><strong><span class=\"color\" style=\"color:#cf2e2e\">No Deal</span></strong></td><td>₹1 crore<br/>3.5% Equity</td><td>No Offer</td><td>N/A</td></tr><tr><td>95</td><td><strong><a href=\"https://instagram.com/sippline_india?utm_medium=copy_link\" rel=\"noreferrer noopener nofollow\" target=\"_blank\">Rohit Warrier</a></strong></td><td>Pune</td><td>Drinking Shields<br/>(Sippline)</td><td><strong><span class=\"color\" style=\"color:#cf2e2e\">No Deal</span></strong></td><td>₹75 lakhs<br/>15% Equity</td><td>No Offer</td><td>N/A</td></tr><tr><td>96</td><td><strong><a href=\"https://instagram.com/kabaddiadda?utm_medium=copy_link\" rel=\"noreferrer noopener nofollow\" target=\"_blank\">Arvind and Suhail</a></strong></td><td>Mumbai</td><td>Kabaddi League <br/>(Kabaddi Adda)</td><td><strong><span class=\"color\" style=\"color:#00d084\">Deal</span></strong></td><td>₹80 lakhs<br/>1% Equity</td><td>₹80 lakhs<br/>6% Equity</td><td>Namita, Vineeta</td></tr><tr><td>97</td><td><strong><a href=\"https://instagram.com/theshadesofspring?utm_medium=copy_link\" rel=\"noreferrer noopener nofollow\" target=\"_blank\">Nidhi and Anuj</a></strong></td><td>Mumbai</td><td>Fresh Flowers <br/>(Shades of Spring)</td><td><strong><span class=\"color\" style=\"color:#cf2e2e\">No Deal</span></strong></td><td>₹3 crore<br/>1% Equity</td><td>No Offer</td><td>N/A</td></tr><tr><td>98</td><td><strong><a href=\"https://instagram.com/scholify_me?utm_medium=copy_link\" rel=\"noreferrer noopener nofollow\" target=\"_blank\">Mayank Pareekh</a></strong></td><td>Bangalore</td><td>Scholarship Provider App<br/>(Scholify)</td><td><strong><span class=\"color\" style=\"color:#cf2e2e\">No Deal</span></strong></td><td>₹50 lakhs<br/>7.5% Equity</td><td>No Offer</td><td>N/A</td></tr><tr><td>99</td><td><strong><a href=\"https://instagram.com/scrapshala?utm_medium=copy_link\" rel=\"noreferrer noopener nofollow\" target=\"_blank\">Madhu and Shikha Shah</a></strong></td><td>Varanasi</td><td>Decor Items Made From Scrap<br/>(ScrapShala)</td><td><strong><span class=\"color\" style=\"color:#cf2e2e\">No Deal</span></strong></td><td>₹50 lakhs<br/>10% Equity</td><td>No Offer</td><td>N/A</td></tr><tr><td>100</td><td><strong><a href=\"https://instagram.com/saptkrishi?utm_medium=copy_link\" rel=\"noreferrer noopener nofollow\" target=\"_blank\">Nikky and Rashmi Jha</a></strong></td><td>Kanpur</td><td>Cold Storage Device<br/>(Sabjikothi)</td><td><strong><span class=\"color\" style=\"color:#cf2e2e\">No Deal</span></strong></td><td>₹60 lakhs<br/>2.5% Equity</td><td>No Offer</td><td>N/A</td></tr><tr><td>101</td><td><strong><a href=\"https://instagram.com/ayurythm?utm_medium=copy_link\" rel=\"noreferrer noopener nofollow\" target=\"_blank\">Sandeep, Abhilesh, Ramanath</a></strong></td><td>Mumbai</td><td>Ayurvedic Wellness App (Ayurythm)</td><td><strong><span class=\"color\" style=\"color:#00d084\">Deal</span></strong></td><td>₹75 lakhs<br/>2% Equity</td><td>₹75 lakhs<br/>2.68% Equity</td><td>Aman</td></tr><tr><td>102</td><td>Kowshik and Sreepriya</td><td>Coimbatore</td><td>Smartphone Compatible Locks<br/>(Astrix Engineering Pvt. Ltd)</td><td><span class=\"color\" style=\"color:#cf2e2e\"><strong>No Deal</strong></span></td><td>₹75 lakhs<br/>3% Equity</td><td>No Offer</td><td>N/A</td></tr><tr><td>103</td><td><strong><a href=\"https://instagram.com/theaandsid?utm_medium=copy_link\" rel=\"noreferrer noopener nofollow\" target=\"_blank\">Ashwini and Aditi</a></strong></td><td>Mumbai</td><td>Silver Rings <br/>(Thea and Sid)</td><td><strong><span class=\"color\" style=\"color:#cf2e2e\">No Deal</span></strong></td><td>₹80 lakhs<br/>7% Equity</td><td>No Offer</td><td>N/A</td></tr><tr><td>104</td><td><strong><a href=\"https://instagram.com/experientialetc?utm_medium=copy_link\" rel=\"noreferrer noopener nofollow\" target=\"_blank\">Prashant and Karan</a></strong></td><td>Mumbai</td><td>Holobyk<br/>(ExperientialEtc)</td><td><strong><span class=\"color\" style=\"color:#cf2e2e\">No Deal</span></strong></td><td>₹2 crore<br/>4% Equity</td><td>No Offer</td><td>N/A</td></tr><tr><td>105</td><td><strong><a href=\"https://instagram.com/growfitter?utm_medium=copy_link\" rel=\"noreferrer noopener nofollow\" target=\"_blank\">Sanmati and Harshit</a></strong></td><td>Mumbai</td><td>Reward based Fitness App<br/>(GrowFitter)</td><td><strong><span class=\"color\" style=\"color:#00d084\">Deal</span></strong></td><td>₹50 lakhs<br/>1% Equity</td><td>₹50 lakhs<br/>2% Equity</td><td>Aman</td></tr><tr><td>106</td><td><strong><a href=\"https://instagram.com/c3medtech?utm_medium=copy_link\" rel=\"noreferrer noopener nofollow\" target=\"_blank\">Yash and Alisha Nagarsheth</a></strong></td><td>Ahmedabad</td><td>Eye-screening Devices<br/>(C3 Med-Tech)</td><td><strong><span class=\"color\" style=\"color:#cf2e2e\">No Deal</span></strong></td><td>₹35 lakhs<br/>6% Equity</td><td>₹35 lakhs<br/>33.33% Equity</td><td>Peyush</td></tr><tr><td>107</td><td><strong><a href=\"https://instagram.com/yourfootdoctorindia?utm_medium=copy_link\" rel=\"noreferrer noopener nofollow\" target=\"_blank\">Rajeev and Trishla Surana</a></strong></td><td>Mumbai</td><td>Footwear<br/>(Colour Me Mad)</td><td><strong><span class=\"color\" style=\"color:#00d084\">Deal</span></strong></td><td>₹40 lakhs<br/>10% Equity</td><td>₹40 lakhs<br/>25% Equity</td><td>Namita</td></tr><tr><td>108</td><td><strong><a href=\"https://instagram.com/kombucha.in?utm_medium=copy_link\" rel=\"noreferrer noopener nofollow\" target=\"_blank\">Vikram and Minakshi</a></strong></td><td>Mumbai</td><td>Fermented Drinks<br/>(Mavi’s)</td><td><strong><span class=\"color\" style=\"color:#cf2e2e\">No Deal</span></strong></td><td>₹40 lakhs<br/>5% Equity</td><td>No Offer</td><td>N/A</td></tr><tr><td>109</td><td><strong><a href=\"https://instagram.com/tweeklabs?utm_medium=copy_link\" rel=\"noreferrer noopener nofollow\" target=\"_blank\">Shwetank, Anant, Ayush, Aman</a></strong></td><td>New Delhi</td><td>Sportswear <br/>(Tweak Labs)</td><td><strong><span class=\"color\" style=\"color:#00d084\">Deal</span></strong></td><td>₹40 lakhs<br/>2% Equity</td><td>₹60 lakhs<br/>10% Equity</td><td>Anupam, Peyush, Ashneer</td></tr><tr><td>110</td><td><strong><a href=\"https://instagram.com/proxgy?utm_medium=copy_link\" rel=\"noreferrer noopener nofollow\" target=\"_blank\">Pulkit and Inderjit</a></strong></td><td>Mumbai</td><td>Human Proxy <br/>(Proxgy)</td><td><strong><span class=\"color\" style=\"color:#00d084\">Deal</span></strong></td><td>₹35 lakhs<br/>1% Equity</td><td>₹1 crore<br/>10% Equity</td><td>Peyush, Ashneer</td></tr><tr><td>111</td><td><strong><a href=\"https://instagram.com/nomadfoodproject?utm_medium=copy_link\" rel=\"noreferrer noopener nofollow\" target=\"_blank\">Advaith and Aditya</a></strong></td><td>Pune</td><td>Bacon Jams <br/>(Nomad Food Project)</td><td><strong><span class=\"color\" style=\"color:#00d084\">Deal</span></strong></td><td>₹40 lakhs<br/>10% Equity</td><td>₹40 lakhs<br/>20% Equity</td><td>Vineeta, Namita, Ghazal, Ashneer</td></tr><tr><td>112</td><td><strong><a href=\"https://instagram.com/tweeinone?utm_medium=copy_link\" rel=\"noreferrer noopener nofollow\" target=\"_blank\">Niti Singhal</a></strong></td><td>Mumbai</td><td>Reversible and Convertible Outfits<br/>(Twee In One)</td><td><strong><span class=\"color\" style=\"color:#cf2e2e\">No Deal</span></strong></td><td>₹30 lakhs<br/>7.5% Equity</td><td>No Offer</td><td>N/A</td></tr><tr><td>113</td><td><strong><a href=\"https://instagram.com/greenproteinofficial?utm_medium=copy_link\" rel=\"noreferrer noopener nofollow\" target=\"_blank\">Madhavi and Satish Datwani</a></strong></td><td>Mumbai</td><td>Plant-based Beverages<br/>(Green Protein)</td><td><strong><span class=\"color\" style=\"color:#cf2e2e\">No Deal</span></strong></td><td>₹60 lakhs<br/>2% Equity</td><td>₹60 lakhs<br/>15% Equity</td><td>Aman, Vineeta, Ghazal</td></tr><tr><td>114</td><td><strong><a href=\"https://instagram.com/on2cook?utm_medium=copy_link\" rel=\"noreferrer noopener nofollow\" target=\"_blank\">Sanandan Sudhir</a></strong></td><td> Ahmedabad</td><td>Smart Cooking Device <br/>(On2Cook)</td><td><strong><span class=\"color\" style=\"color:#cf2e2e\">No Deal</span></strong></td><td>₹1 crore<br/>1% Equity</td><td>No Offer</td><td>N/A</td></tr><tr><td>115</td><td><strong><a href=\"https://instagram.com/woloo.in?utm_medium=copy_link\" rel=\"noreferrer noopener nofollow\" target=\"_blank\">Supreet, Manish, Rupali</a></strong></td><td>Mumbai</td><td>Washroom Finder App<br/>(Woloo)</td><td><strong><span class=\"color\" style=\"color:#cf2e2e\">No Deal</span></strong></td><td>₹50 lakhs<br/>4% Equity</td><td>₹25 lakhs<br/>10% Equity<br/>₹25 lakhs<br/>Debt</td><td>Namita</td></tr><tr><td>116</td><td><strong><a href=\"https://instagram.com/jainshikanji?utm_medium=copy_link\" rel=\"noreferrer noopener nofollow\" target=\"_blank\">Anubhav Jain</a></strong></td><td>Modinagar</td><td>Lemon Shikanji<br/>(Jain Shikanji)</td><td><strong><span class=\"color\" style=\"color:#00d084\">Deal</span></strong></td><td>₹40 lakhs<br/>8% Equity</td><td>₹40 lakhs<br/>30% Equity</td><td>Aman, Anupam, Ashneer, Vineeta</td></tr><tr><td>117</td><td><strong><a href=\"https://instagram.com/elcareindia?utm_medium=copy_link\" rel=\"noreferrer noopener nofollow\" target=\"_blank\">Pankaj, Aashna, Suresh</a></strong></td><td>Gurugram</td><td>Carenting for Elders<br/>(Elcare)</td><td><strong><span class=\"color\" style=\"color:#cf2e2e\">No Deal</span></strong></td><td>₹1 crore<br/>2.5% Equity</td><td>No Offer</td><td>N/A</td></tr></tbody></table>"
      ]
     },
     "execution_count": 15,
     "metadata": {},
     "output_type": "execute_result"
    }
   ],
   "source": [
    "table"
   ]
  },
  {
   "cell_type": "code",
   "execution_count": 21,
   "metadata": {},
   "outputs": [],
   "source": [
    "column_name=[i.text for i in table.find_all('th')]"
   ]
  },
  {
   "cell_type": "code",
   "execution_count": 22,
   "metadata": {},
   "outputs": [
    {
     "data": {
      "text/plain": [
       "['Sr No.',\n",
       " 'Entrepreneur Name',\n",
       " 'From',\n",
       " 'Business',\n",
       " 'Deal',\n",
       " 'Original Ask',\n",
       " 'Final Offer',\n",
       " 'Investors']"
      ]
     },
     "execution_count": 22,
     "metadata": {},
     "output_type": "execute_result"
    }
   ],
   "source": [
    "column_name"
   ]
  },
  {
   "cell_type": "code",
   "execution_count": 28,
   "metadata": {},
   "outputs": [],
   "source": [
    "def shark_tank():\n",
    "    column_name=[i.text for i in table.find_all('th')]\n",
    "    data=[]\n",
    "    for d in table.tbody.find_all('tr'):\n",
    "        data.append([i.text.strip() for i in d.find_all('td')])\n",
    "    shark= pd.DataFrame(data)\n",
    "    shark.columns = column_name\n",
    "    return shark"
   ]
  },
  {
   "cell_type": "code",
   "execution_count": 30,
   "metadata": {},
   "outputs": [],
   "source": [
    "shark_tank().to_csv('Shark_Tank.csv')"
   ]
  },
  {
   "cell_type": "code",
   "execution_count": 31,
   "metadata": {},
   "outputs": [
    {
     "data": {
      "text/html": [
       "<div>\n",
       "<style scoped>\n",
       "    .dataframe tbody tr th:only-of-type {\n",
       "        vertical-align: middle;\n",
       "    }\n",
       "\n",
       "    .dataframe tbody tr th {\n",
       "        vertical-align: top;\n",
       "    }\n",
       "\n",
       "    .dataframe thead th {\n",
       "        text-align: right;\n",
       "    }\n",
       "</style>\n",
       "<table border=\"1\" class=\"dataframe\">\n",
       "  <thead>\n",
       "    <tr style=\"text-align: right;\">\n",
       "      <th></th>\n",
       "      <th>Unnamed: 0</th>\n",
       "      <th>Sr No.</th>\n",
       "      <th>Entrepreneur Name</th>\n",
       "      <th>From</th>\n",
       "      <th>Business</th>\n",
       "      <th>Deal</th>\n",
       "      <th>Original Ask</th>\n",
       "      <th>Final Offer</th>\n",
       "      <th>Investors</th>\n",
       "    </tr>\n",
       "  </thead>\n",
       "  <tbody>\n",
       "    <tr>\n",
       "      <th>0</th>\n",
       "      <td>0</td>\n",
       "      <td>1</td>\n",
       "      <td>Aditi Madan (Momo Mami)</td>\n",
       "      <td>Darjeeling</td>\n",
       "      <td>Momos(BluePine Foods)</td>\n",
       "      <td>Deal</td>\n",
       "      <td>₹50 lakhs5% Equity</td>\n",
       "      <td>₹75 lakhs 16% Equity</td>\n",
       "      <td>Ashneer, Aman, Vineeta</td>\n",
       "    </tr>\n",
       "    <tr>\n",
       "      <th>1</th>\n",
       "      <td>1</td>\n",
       "      <td>2</td>\n",
       "      <td>Rutvij Dasadia</td>\n",
       "      <td>Ahmedabad</td>\n",
       "      <td>Electric Scooters (Booz)</td>\n",
       "      <td>Deal</td>\n",
       "      <td>₹40 lakhs15% Equity</td>\n",
       "      <td>₹40 lakhs50% Equity</td>\n",
       "      <td>Ashneer, Vineeta</td>\n",
       "    </tr>\n",
       "    <tr>\n",
       "      <th>2</th>\n",
       "      <td>2</td>\n",
       "      <td>3</td>\n",
       "      <td>Riya Khattar</td>\n",
       "      <td>New Delhi</td>\n",
       "      <td>Outfit(Heart Up My Sleeves)</td>\n",
       "      <td>Deal</td>\n",
       "      <td>₹25 lakhs 10% Equity</td>\n",
       "      <td>₹25 lakhs30% Equity</td>\n",
       "      <td>Anupam, Vineeta</td>\n",
       "    </tr>\n",
       "    <tr>\n",
       "      <th>3</th>\n",
       "      <td>3</td>\n",
       "      <td>4</td>\n",
       "      <td>Anish and Sagar</td>\n",
       "      <td>Delhi</td>\n",
       "      <td>Popped Chips(Tagz Foods)</td>\n",
       "      <td>Deal</td>\n",
       "      <td>₹70 lakhs 1% Equity</td>\n",
       "      <td>₹70 lakhs  2.75% Equity</td>\n",
       "      <td>Ashneer</td>\n",
       "    </tr>\n",
       "    <tr>\n",
       "      <th>4</th>\n",
       "      <td>4</td>\n",
       "      <td>5</td>\n",
       "      <td>Singh Family</td>\n",
       "      <td>Punjab</td>\n",
       "      <td>Brain Training(Head and Heart)</td>\n",
       "      <td>No Deal</td>\n",
       "      <td>₹50 lakhs 5% Equity</td>\n",
       "      <td>No Offer</td>\n",
       "      <td>NaN</td>\n",
       "    </tr>\n",
       "  </tbody>\n",
       "</table>\n",
       "</div>"
      ],
      "text/plain": [
       "   Unnamed: 0  Sr No.        Entrepreneur Name        From  \\\n",
       "0           0       1  Aditi Madan (Momo Mami)  Darjeeling   \n",
       "1           1       2           Rutvij Dasadia   Ahmedabad   \n",
       "2           2       3             Riya Khattar   New Delhi   \n",
       "3           3       4          Anish and Sagar       Delhi   \n",
       "4           4       5             Singh Family      Punjab   \n",
       "\n",
       "                         Business     Deal          Original Ask  \\\n",
       "0           Momos(BluePine Foods)     Deal    ₹50 lakhs5% Equity   \n",
       "1        Electric Scooters (Booz)     Deal   ₹40 lakhs15% Equity   \n",
       "2     Outfit(Heart Up My Sleeves)     Deal  ₹25 lakhs 10% Equity   \n",
       "3        Popped Chips(Tagz Foods)     Deal   ₹70 lakhs 1% Equity   \n",
       "4  Brain Training(Head and Heart)  No Deal   ₹50 lakhs 5% Equity   \n",
       "\n",
       "               Final Offer               Investors  \n",
       "0     ₹75 lakhs 16% Equity  Ashneer, Aman, Vineeta  \n",
       "1      ₹40 lakhs50% Equity        Ashneer, Vineeta  \n",
       "2      ₹25 lakhs30% Equity         Anupam, Vineeta  \n",
       "3  ₹70 lakhs  2.75% Equity                 Ashneer  \n",
       "4                 No Offer                     NaN  "
      ]
     },
     "execution_count": 31,
     "metadata": {},
     "output_type": "execute_result"
    }
   ],
   "source": [
    "data=pd.read_csv('Shark_Tank.csv')\n",
    "data.head()"
   ]
  },
  {
   "cell_type": "code",
   "execution_count": 42,
   "metadata": {},
   "outputs": [
    {
     "data": {
      "text/plain": [
       "Index(['Sr No.', 'Entrepreneur Name', 'From', 'Business', 'Deal',\n",
       "       'Original Ask', 'Final Offer', 'Investors'],\n",
       "      dtype='object')"
      ]
     },
     "execution_count": 42,
     "metadata": {},
     "output_type": "execute_result"
    }
   ],
   "source": [
    "data.columns"
   ]
  },
  {
   "cell_type": "code",
   "execution_count": 34,
   "metadata": {},
   "outputs": [],
   "source": [
    "data.drop(columns=['Unnamed: 0'],inplace=True)"
   ]
  },
  {
   "cell_type": "code",
   "execution_count": 39,
   "metadata": {},
   "outputs": [],
   "source": [
    "data.to_csv('Shark_tank.csv')"
   ]
  },
  {
   "cell_type": "code",
   "execution_count": 40,
   "metadata": {},
   "outputs": [
    {
     "data": {
      "text/html": [
       "<div>\n",
       "<style scoped>\n",
       "    .dataframe tbody tr th:only-of-type {\n",
       "        vertical-align: middle;\n",
       "    }\n",
       "\n",
       "    .dataframe tbody tr th {\n",
       "        vertical-align: top;\n",
       "    }\n",
       "\n",
       "    .dataframe thead th {\n",
       "        text-align: right;\n",
       "    }\n",
       "</style>\n",
       "<table border=\"1\" class=\"dataframe\">\n",
       "  <thead>\n",
       "    <tr style=\"text-align: right;\">\n",
       "      <th></th>\n",
       "      <th>Unnamed: 0</th>\n",
       "      <th>Sr No.</th>\n",
       "      <th>Entrepreneur Name</th>\n",
       "      <th>From</th>\n",
       "      <th>Business</th>\n",
       "      <th>Deal</th>\n",
       "      <th>Original Ask</th>\n",
       "      <th>Final Offer</th>\n",
       "      <th>Investors</th>\n",
       "    </tr>\n",
       "  </thead>\n",
       "  <tbody>\n",
       "    <tr>\n",
       "      <th>0</th>\n",
       "      <td>0</td>\n",
       "      <td>1</td>\n",
       "      <td>Aditi Madan (Momo Mami)</td>\n",
       "      <td>Darjeeling</td>\n",
       "      <td>Momos(BluePine Foods)</td>\n",
       "      <td>Deal</td>\n",
       "      <td>₹50 lakhs5% Equity</td>\n",
       "      <td>₹75 lakhs 16% Equity</td>\n",
       "      <td>Ashneer, Aman, Vineeta</td>\n",
       "    </tr>\n",
       "    <tr>\n",
       "      <th>1</th>\n",
       "      <td>1</td>\n",
       "      <td>2</td>\n",
       "      <td>Rutvij Dasadia</td>\n",
       "      <td>Ahmedabad</td>\n",
       "      <td>Electric Scooters (Booz)</td>\n",
       "      <td>Deal</td>\n",
       "      <td>₹40 lakhs15% Equity</td>\n",
       "      <td>₹40 lakhs50% Equity</td>\n",
       "      <td>Ashneer, Vineeta</td>\n",
       "    </tr>\n",
       "    <tr>\n",
       "      <th>2</th>\n",
       "      <td>2</td>\n",
       "      <td>3</td>\n",
       "      <td>Riya Khattar</td>\n",
       "      <td>New Delhi</td>\n",
       "      <td>Outfit(Heart Up My Sleeves)</td>\n",
       "      <td>Deal</td>\n",
       "      <td>₹25 lakhs 10% Equity</td>\n",
       "      <td>₹25 lakhs30% Equity</td>\n",
       "      <td>Anupam, Vineeta</td>\n",
       "    </tr>\n",
       "    <tr>\n",
       "      <th>3</th>\n",
       "      <td>3</td>\n",
       "      <td>4</td>\n",
       "      <td>Anish and Sagar</td>\n",
       "      <td>Delhi</td>\n",
       "      <td>Popped Chips(Tagz Foods)</td>\n",
       "      <td>Deal</td>\n",
       "      <td>₹70 lakhs 1% Equity</td>\n",
       "      <td>₹70 lakhs  2.75% Equity</td>\n",
       "      <td>Ashneer</td>\n",
       "    </tr>\n",
       "    <tr>\n",
       "      <th>4</th>\n",
       "      <td>4</td>\n",
       "      <td>5</td>\n",
       "      <td>Singh Family</td>\n",
       "      <td>Punjab</td>\n",
       "      <td>Brain Training(Head and Heart)</td>\n",
       "      <td>No Deal</td>\n",
       "      <td>₹50 lakhs 5% Equity</td>\n",
       "      <td>No Offer</td>\n",
       "      <td>NaN</td>\n",
       "    </tr>\n",
       "    <tr>\n",
       "      <th>...</th>\n",
       "      <td>...</td>\n",
       "      <td>...</td>\n",
       "      <td>...</td>\n",
       "      <td>...</td>\n",
       "      <td>...</td>\n",
       "      <td>...</td>\n",
       "      <td>...</td>\n",
       "      <td>...</td>\n",
       "      <td>...</td>\n",
       "    </tr>\n",
       "    <tr>\n",
       "      <th>112</th>\n",
       "      <td>112</td>\n",
       "      <td>113</td>\n",
       "      <td>Madhavi and Satish Datwani</td>\n",
       "      <td>Mumbai</td>\n",
       "      <td>Plant-based Beverages(Green Protein)</td>\n",
       "      <td>No Deal</td>\n",
       "      <td>₹60 lakhs2% Equity</td>\n",
       "      <td>₹60 lakhs15% Equity</td>\n",
       "      <td>Aman, Vineeta, Ghazal</td>\n",
       "    </tr>\n",
       "    <tr>\n",
       "      <th>113</th>\n",
       "      <td>113</td>\n",
       "      <td>114</td>\n",
       "      <td>Sanandan Sudhir</td>\n",
       "      <td>Ahmedabad</td>\n",
       "      <td>Smart Cooking Device (On2Cook)</td>\n",
       "      <td>No Deal</td>\n",
       "      <td>₹1 crore1% Equity</td>\n",
       "      <td>No Offer</td>\n",
       "      <td>NaN</td>\n",
       "    </tr>\n",
       "    <tr>\n",
       "      <th>114</th>\n",
       "      <td>114</td>\n",
       "      <td>115</td>\n",
       "      <td>Supreet, Manish, Rupali</td>\n",
       "      <td>Mumbai</td>\n",
       "      <td>Washroom Finder App(Woloo)</td>\n",
       "      <td>No Deal</td>\n",
       "      <td>₹50 lakhs4% Equity</td>\n",
       "      <td>₹25 lakhs10% Equity₹25 lakhsDebt</td>\n",
       "      <td>Namita</td>\n",
       "    </tr>\n",
       "    <tr>\n",
       "      <th>115</th>\n",
       "      <td>115</td>\n",
       "      <td>116</td>\n",
       "      <td>Anubhav Jain</td>\n",
       "      <td>Modinagar</td>\n",
       "      <td>Lemon Shikanji(Jain Shikanji)</td>\n",
       "      <td>Deal</td>\n",
       "      <td>₹40 lakhs8% Equity</td>\n",
       "      <td>₹40 lakhs30% Equity</td>\n",
       "      <td>Aman, Anupam, Ashneer, Vineeta</td>\n",
       "    </tr>\n",
       "    <tr>\n",
       "      <th>116</th>\n",
       "      <td>116</td>\n",
       "      <td>117</td>\n",
       "      <td>Pankaj, Aashna, Suresh</td>\n",
       "      <td>Gurugram</td>\n",
       "      <td>Carenting for Elders(Elcare)</td>\n",
       "      <td>No Deal</td>\n",
       "      <td>₹1 crore2.5% Equity</td>\n",
       "      <td>No Offer</td>\n",
       "      <td>NaN</td>\n",
       "    </tr>\n",
       "  </tbody>\n",
       "</table>\n",
       "<p>117 rows × 9 columns</p>\n",
       "</div>"
      ],
      "text/plain": [
       "     Unnamed: 0  Sr No.           Entrepreneur Name        From  \\\n",
       "0             0       1     Aditi Madan (Momo Mami)  Darjeeling   \n",
       "1             1       2              Rutvij Dasadia   Ahmedabad   \n",
       "2             2       3                Riya Khattar   New Delhi   \n",
       "3             3       4             Anish and Sagar       Delhi   \n",
       "4             4       5                Singh Family      Punjab   \n",
       "..          ...     ...                         ...         ...   \n",
       "112         112     113  Madhavi and Satish Datwani      Mumbai   \n",
       "113         113     114             Sanandan Sudhir   Ahmedabad   \n",
       "114         114     115     Supreet, Manish, Rupali      Mumbai   \n",
       "115         115     116                Anubhav Jain   Modinagar   \n",
       "116         116     117      Pankaj, Aashna, Suresh    Gurugram   \n",
       "\n",
       "                                 Business     Deal          Original Ask  \\\n",
       "0                   Momos(BluePine Foods)     Deal    ₹50 lakhs5% Equity   \n",
       "1                Electric Scooters (Booz)     Deal   ₹40 lakhs15% Equity   \n",
       "2             Outfit(Heart Up My Sleeves)     Deal  ₹25 lakhs 10% Equity   \n",
       "3                Popped Chips(Tagz Foods)     Deal   ₹70 lakhs 1% Equity   \n",
       "4          Brain Training(Head and Heart)  No Deal   ₹50 lakhs 5% Equity   \n",
       "..                                    ...      ...                   ...   \n",
       "112  Plant-based Beverages(Green Protein)  No Deal    ₹60 lakhs2% Equity   \n",
       "113        Smart Cooking Device (On2Cook)  No Deal     ₹1 crore1% Equity   \n",
       "114            Washroom Finder App(Woloo)  No Deal    ₹50 lakhs4% Equity   \n",
       "115         Lemon Shikanji(Jain Shikanji)     Deal    ₹40 lakhs8% Equity   \n",
       "116          Carenting for Elders(Elcare)  No Deal   ₹1 crore2.5% Equity   \n",
       "\n",
       "                          Final Offer                       Investors  \n",
       "0                ₹75 lakhs 16% Equity          Ashneer, Aman, Vineeta  \n",
       "1                 ₹40 lakhs50% Equity                Ashneer, Vineeta  \n",
       "2                 ₹25 lakhs30% Equity                 Anupam, Vineeta  \n",
       "3             ₹70 lakhs  2.75% Equity                         Ashneer  \n",
       "4                            No Offer                             NaN  \n",
       "..                                ...                             ...  \n",
       "112               ₹60 lakhs15% Equity           Aman, Vineeta, Ghazal  \n",
       "113                          No Offer                             NaN  \n",
       "114  ₹25 lakhs10% Equity₹25 lakhsDebt                          Namita  \n",
       "115               ₹40 lakhs30% Equity  Aman, Anupam, Ashneer, Vineeta  \n",
       "116                          No Offer                             NaN  \n",
       "\n",
       "[117 rows x 9 columns]"
      ]
     },
     "execution_count": 40,
     "metadata": {},
     "output_type": "execute_result"
    }
   ],
   "source": [
    "df=pd.read_csv('Shark_tank.csv')\n",
    "df"
   ]
  },
  {
   "cell_type": "code",
   "execution_count": null,
   "metadata": {},
   "outputs": [],
   "source": []
  }
 ],
 "metadata": {
  "kernelspec": {
   "display_name": "Python 3",
   "language": "python",
   "name": "python3"
  },
  "language_info": {
   "codemirror_mode": {
    "name": "ipython",
    "version": 3
   },
   "file_extension": ".py",
   "mimetype": "text/x-python",
   "name": "python",
   "nbconvert_exporter": "python",
   "pygments_lexer": "ipython3",
   "version": "3.8.5"
  }
 },
 "nbformat": 4,
 "nbformat_minor": 4
}
